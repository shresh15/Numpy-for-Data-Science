{
 "cells": [
  {
   "cell_type": "markdown",
   "id": "df7f4d19",
   "metadata": {},
   "source": [
    "## NUMPY Array and basics"
   ]
  },
  {
   "cell_type": "code",
   "execution_count": 1,
   "id": "6ebfd4b2",
   "metadata": {},
   "outputs": [],
   "source": [
    "import numpy as np "
   ]
  },
  {
   "cell_type": "markdown",
   "id": "2c5c9ce7",
   "metadata": {},
   "source": [
    "## Creating array from list"
   ]
  },
  {
   "cell_type": "code",
   "execution_count": 3,
   "id": "a931f452",
   "metadata": {},
   "outputs": [
    {
     "name": "stdout",
     "output_type": "stream",
     "text": [
      "1D array:  [1 2 3 4 5]\n",
      "2D array:  [[1 2 3]\n",
      " [4 5 6]]\n"
     ]
    }
   ],
   "source": [
    "arr_1d=np.array([1,2,3,4,5])\n",
    "print(\"1D array: \", arr_1d)\n",
    "\n",
    "arr_2d=np.array([[1,2,3],[4,5,6]])\n",
    "print(\"2D array: \", arr_2d)\n"
   ]
  },
  {
   "cell_type": "markdown",
   "id": "a4bb6ce2",
   "metadata": {},
   "source": [
    "## List vs numpy array"
   ]
  },
  {
   "cell_type": "code",
   "execution_count": 4,
   "id": "a0756889",
   "metadata": {},
   "outputs": [
    {
     "name": "stdout",
     "output_type": "stream",
     "text": [
      "python list multiplication [1, 2, 3, 1, 2, 3]\n",
      "python array multiplication [2 4 6]\n"
     ]
    }
   ],
   "source": [
    "py_list=[1,2,3]\n",
    "print(\"python list multiplication\", py_list*2)\n",
    "\n",
    "np_array=np.array([1,2,3])\n",
    "print(\"python array multiplication\", np_array*2)"
   ]
  },
  {
   "cell_type": "markdown",
   "id": "ec1d6169",
   "metadata": {},
   "source": [
    "## Creating array from scratch\n"
   ]
  },
  {
   "cell_type": "code",
   "execution_count": 6,
   "id": "1bafbc89",
   "metadata": {},
   "outputs": [
    {
     "name": "stdout",
     "output_type": "stream",
     "text": [
      "zeros array: \n",
      " [[0. 0. 0. 0.]\n",
      " [0. 0. 0. 0.]\n",
      " [0. 0. 0. 0.]]\n"
     ]
    }
   ],
   "source": [
    "zeros=np.zeros((3,4))\n",
    "print(\"zeros array: \\n\", zeros)"
   ]
  },
  {
   "cell_type": "code",
   "execution_count": 7,
   "id": "19612b3a",
   "metadata": {},
   "outputs": [
    {
     "name": "stdout",
     "output_type": "stream",
     "text": [
      "full array: \n",
      " [[7 7]\n",
      " [7 7]]\n"
     ]
    }
   ],
   "source": [
    "full=np.full((2,2),7)\n",
    "print(\"full array: \\n\",full)"
   ]
  },
  {
   "cell_type": "code",
   "execution_count": 8,
   "id": "ad697950",
   "metadata": {},
   "outputs": [
    {
     "name": "stdout",
     "output_type": "stream",
     "text": [
      "random array: \n",
      " [[0.76319784 0.63954144 0.24440366]\n",
      " [0.89269079 0.37169268 0.58822503]]\n"
     ]
    }
   ],
   "source": [
    "random=np.random.random((2,3))\n",
    "print(\"random array: \\n\",random)"
   ]
  },
  {
   "cell_type": "code",
   "execution_count": 2,
   "id": "a32f75bf",
   "metadata": {},
   "outputs": [
    {
     "name": "stdout",
     "output_type": "stream",
     "text": [
      "sequence array: \n",
      " [0 2 4 6 8]\n"
     ]
    }
   ],
   "source": [
    "import numpy as np \n",
    "sequence=np.arange(0,10,2)\n",
    "print(\"sequence array: \\n\",sequence)"
   ]
  },
  {
   "cell_type": "code",
   "execution_count": 4,
   "id": "71855180",
   "metadata": {},
   "outputs": [
    {
     "name": "stdout",
     "output_type": "stream",
     "text": [
      "Tensor:  [[[1 2]\n",
      "  [3 4]]\n",
      "\n",
      " [[5 6]\n",
      "  [7 8]]]\n"
     ]
    }
   ],
   "source": [
    "tensor=np.array(\n",
    "    [\n",
    "        [[1,2],[3,4]],\n",
    "\n",
    "        [[5,6],[7,8]]\n",
    "    ]\n",
    ")\n",
    "print(\"Tensor: \",tensor)"
   ]
  },
  {
   "cell_type": "markdown",
   "id": "c6dac355",
   "metadata": {},
   "source": [
    "### Array properties\n"
   ]
  },
  {
   "cell_type": "code",
   "execution_count": 5,
   "id": "81270915",
   "metadata": {},
   "outputs": [
    {
     "name": "stdout",
     "output_type": "stream",
     "text": [
      "Shape (2, 3)\n",
      "Dimension 2\n",
      "Size 6\n",
      "Data Type int64\n"
     ]
    }
   ],
   "source": [
    "arr=np.array([[1,2,3],[4,5,6]])\n",
    "print(\"Shape\", arr.shape)\n",
    "print(\"Dimension\",arr.ndim)\n",
    "print(\"Size\", arr.size)\n",
    "print(\"Data Type\", arr.dtype)"
   ]
  },
  {
   "cell_type": "markdown",
   "id": "d5eb5b52",
   "metadata": {},
   "source": [
    "## Array Reshaping"
   ]
  },
  {
   "cell_type": "code",
   "execution_count": 8,
   "id": "d6c5ac89",
   "metadata": {},
   "outputs": [
    {
     "name": "stdout",
     "output_type": "stream",
     "text": [
      "original [ 0  1  2  3  4  5  6  7  8  9 10 11]\n",
      "\n",
      " Reshaped array [[ 0  1  2  3]\n",
      " [ 4  5  6  7]\n",
      " [ 8  9 10 11]]\n",
      "\n",
      " flattened [ 0  1  2  3  4  5  6  7  8  9 10 11]\n",
      "\n",
      " raveled array [ 0  1  2  3  4  5  6  7  8  9 10 11]\n",
      "\n",
      " transposed array [[ 0  4  8]\n",
      " [ 1  5  9]\n",
      " [ 2  6 10]\n",
      " [ 3  7 11]]\n"
     ]
    }
   ],
   "source": [
    "arr=np.arange(12)\n",
    "print(\"original\", arr)\n",
    "\n",
    "reshaped=arr.reshape((3,4))\n",
    "print(\"\\n Reshaped array\", reshaped)\n",
    "\n",
    "flattened=reshaped.flatten()\n",
    "print(\"\\n flattened\",flattened)\n",
    "\n",
    "#ravel -> returns original instead of copy (like flatten)\n",
    "raveled=reshaped.ravel()\n",
    "print(\"\\n raveled array\",raveled)\n",
    "\n",
    "transpose=reshaped.T\n",
    "print(\"\\n transposed array\", transpose)\n",
    "\n",
    "\n"
   ]
  },
  {
   "cell_type": "code",
   "execution_count": null,
   "id": "d9983732",
   "metadata": {},
   "outputs": [],
   "source": []
  }
 ],
 "metadata": {
  "kernelspec": {
   "display_name": "venv",
   "language": "python",
   "name": "python3"
  },
  "language_info": {
   "codemirror_mode": {
    "name": "ipython",
    "version": 3
   },
   "file_extension": ".py",
   "mimetype": "text/x-python",
   "name": "python",
   "nbconvert_exporter": "python",
   "pygments_lexer": "ipython3",
   "version": "3.12.0"
  }
 },
 "nbformat": 4,
 "nbformat_minor": 5
}
