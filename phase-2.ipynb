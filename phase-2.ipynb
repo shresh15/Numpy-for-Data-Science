{
 "cells": [
  {
   "cell_type": "markdown",
   "id": "7fb060e7",
   "metadata": {},
   "source": [
    "## Numpy Array Operations\n"
   ]
  },
  {
   "cell_type": "code",
   "execution_count": 1,
   "id": "a9bac613",
   "metadata": {},
   "outputs": [],
   "source": [
    "import numpy as np"
   ]
  },
  {
   "cell_type": "code",
   "execution_count": 3,
   "id": "b5513c3e",
   "metadata": {},
   "outputs": [
    {
     "name": "stdout",
     "output_type": "stream",
     "text": [
      "Basic slicing [3 4 5]\n",
      "Negative indexing 4\n"
     ]
    }
   ],
   "source": [
    "arr=np.array([1,2,3,4,5])\n",
    "print(\"Basic slicing\", arr[2:5])\n",
    "print(\"Negative indexing\",arr[-2])"
   ]
  },
  {
   "cell_type": "code",
   "execution_count": 4,
   "id": "4975ac01",
   "metadata": {},
   "outputs": [
    {
     "name": "stdout",
     "output_type": "stream",
     "text": [
      "Specific element 6\n"
     ]
    }
   ],
   "source": [
    "arr_2d=np.array([[1,2,3],[4,5,6],[7,8,9]])\n",
    "print(\"Specific element\",arr_2d[1,2])"
   ]
  },
  {
   "cell_type": "markdown",
   "id": "e096e6a0",
   "metadata": {},
   "source": [
    "## Array Sorting"
   ]
  },
  {
   "cell_type": "code",
   "execution_count": 11,
   "id": "2a991154",
   "metadata": {},
   "outputs": [
    {
     "name": "stdout",
     "output_type": "stream",
     "text": [
      "entire col [78  5  2]\n",
      "column sort [[ 6  2]\n",
      " [ 8  5]\n",
      " [12 78]]\n"
     ]
    }
   ],
   "source": [
    "arr_2d_uns=np.array([[6,78],[12,5],[8,2]])\n",
    "print(\"entire col\",arr_2d_uns[:,1])\n",
    "print(\"column sort\", np.sort(arr_2d_uns,axis=0))\n",
    "#axis=0 is top to bottom sort "
   ]
  },
  {
   "cell_type": "markdown",
   "id": "539012f6",
   "metadata": {},
   "source": [
    "## Filtering by mask"
   ]
  },
  {
   "cell_type": "code",
   "execution_count": 16,
   "id": "11616b9d",
   "metadata": {},
   "outputs": [
    {
     "name": "stdout",
     "output_type": "stream",
     "text": [
      "Numbers >2 with mask [89  3 43 51]\n",
      "Numbers >2 [89  3 43 51]\n"
     ]
    }
   ],
   "source": [
    "numbers=np.array([1,89,3,43,51])\n",
    "mask=numbers>2\n",
    "print(\"Numbers >2 with mask\" , numbers[mask])\n",
    "print(\"Numbers >2\" , numbers[numbers>2])"
   ]
  },
  {
   "cell_type": "markdown",
   "id": "2a032d19",
   "metadata": {},
   "source": [
    "## Fancy indexing"
   ]
  },
  {
   "cell_type": "code",
   "execution_count": null,
   "id": "72980d1a",
   "metadata": {},
   "outputs": [
    {
     "name": "stdout",
     "output_type": "stream",
     "text": [
      "[ 1  3 43]\n",
      "(array([1, 3, 4]),)\n",
      "NP WHERE [89 43 51]\n"
     ]
    }
   ],
   "source": [
    "indices=[0,2,3]\n",
    "print(numbers[indices])\n",
    "\n",
    "where_res=np.where(numbers>5) \n",
    "#Stores set of indices which have values> 5\n",
    "print(where_res)\n",
    "print(\"NP WHERE\", numbers[where_res])"
   ]
  },
  {
   "cell_type": "code",
   "execution_count": null,
   "id": "901b93bf",
   "metadata": {},
   "outputs": [],
   "source": []
  },
  {
   "cell_type": "code",
   "execution_count": null,
   "id": "d2c4ed64",
   "metadata": {},
   "outputs": [],
   "source": []
  }
 ],
 "metadata": {
  "kernelspec": {
   "display_name": "venv",
   "language": "python",
   "name": "python3"
  },
  "language_info": {
   "codemirror_mode": {
    "name": "ipython",
    "version": 3
   },
   "file_extension": ".py",
   "mimetype": "text/x-python",
   "name": "python",
   "nbconvert_exporter": "python",
   "pygments_lexer": "ipython3",
   "version": "3.12.0"
  }
 },
 "nbformat": 4,
 "nbformat_minor": 5
}
